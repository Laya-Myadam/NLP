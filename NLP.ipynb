{
  "nbformat": 4,
  "nbformat_minor": 0,
  "metadata": {
    "colab": {
      "provenance": []
    },
    "kernelspec": {
      "name": "python3",
      "display_name": "Python 3"
    },
    "language_info": {
      "name": "python"
    }
  },
  "cells": [
    {
      "cell_type": "code",
      "source": [
        "import nltk\n",
        "nltk.download('stopwords')"
      ],
      "metadata": {
        "colab": {
          "base_uri": "https://localhost:8080/"
        },
        "id": "pvHzNRr_Hz6f",
        "outputId": "c9f279ca-8df9-4a3e-affc-0e361425f3e6"
      },
      "execution_count": 23,
      "outputs": [
        {
          "output_type": "stream",
          "name": "stderr",
          "text": [
            "[nltk_data] Downloading package stopwords to /root/nltk_data...\n",
            "[nltk_data]   Package stopwords is already up-to-date!\n"
          ]
        },
        {
          "output_type": "execute_result",
          "data": {
            "text/plain": [
              "True"
            ]
          },
          "metadata": {},
          "execution_count": 23
        }
      ]
    },
    {
      "cell_type": "code",
      "source": [
        "import pandas as pd\n",
        "import re\n",
        "from nltk.corpus import stopwords\n",
        "from nltk.stem import PorterStemmer\n",
        "\n",
        "df = pd.read_csv('twitter_validation.csv')\n",
        "\n",
        "def tokenize(text):\n",
        "    return text.split()\n",
        "\n",
        "df['TweetContent'] = df['TweetContent'].apply(tokenize)\n",
        "\n",
        "# Lowercasing all words using lower()\n",
        "df['TweetContent'] = df['TweetContent'].apply(lambda x: [word.lower() for word in x])\n",
        "\n",
        "# Removing stopwords using stop_words\n",
        "stop_words = stopwords.words('english')\n",
        "df['TweetContent'] = df['TweetContent'].apply(lambda x: [word for word in x if word not in stop_words])\n",
        "\n",
        "# Removing un-necessary punctuations\n",
        "df['TweetContent'] = df['TweetContent'].apply(lambda x: [re.sub(r'[^a-zA-z0-9]', '', word) for word in x])\n",
        "\n",
        "# Stemming of words\n",
        "ps = PorterStemmer()\n",
        "df['TweetContent'] = df['TweetContent'].apply(lambda x: [ps.stem(word) for word in x])\n",
        "\n",
        "# Joining list of words back to the string\n",
        "df['TweetContent'] = df['TweetContent'].apply(lambda x: ' '.join(x))\n",
        "\n",
        "# Saving the preprocessed-data to a new CSV file\n",
        "df.to_csv('preprocessed_data_twitter.csv', index=False)\n",
        "\n",
        "print(df['TweetContent'].head())\n"
      ],
      "metadata": {
        "colab": {
          "base_uri": "https://localhost:8080/"
        },
        "id": "KmBHOUA0HbmX",
        "outputId": "b9fcbd47-ed60-4d0a-baba-c4ffc1aef395"
      },
      "execution_count": 24,
      "outputs": [
        {
          "output_type": "stream",
          "name": "stdout",
          "text": [
            "0    mention facebook struggl motiv go run day tran...\n",
            "1    bbc news  amazon boss jeff bezo reject claim c...\n",
            "2    microsoft pay word function poorli samsungu ch...\n",
            "3         csgo matchmak full closet hack truli aw game\n",
            "4    presid slap american face realli commit unlaw ...\n",
            "Name: TweetContent, dtype: object\n"
          ]
        }
      ]
    },
    {
      "cell_type": "code",
      "source": [
        "import pandas as pd\n",
        "from sklearn.model_selection import train_test_split\n",
        "from sklearn.feature_extraction.text import CountVectorizer, TfidfVectorizer\n",
        "from sklearn.naive_bayes import MultinomialNB\n",
        "from sklearn.metrics import accuracy_score\n",
        "\n",
        "# Loading of the preprocessed data\n",
        "df = pd.read_csv('preprocessed_data_twitter.csv')\n",
        "\n",
        "# Splitting whole dataset into two separate datasets\n",
        "df_bow, df_tfidf = train_test_split(df, test_size=0.5, random_state=42)\n",
        "\n",
        "# Bag-of-Words on 1st part\n",
        "count_vectorizer = CountVectorizer()\n",
        "X_bow = count_vectorizer.fit_transform(df_bow['TweetContent'])\n",
        "bow_features = pd.DataFrame(X_bow.toarray())\n",
        "\n",
        "# Saving BoW features to a new CSV file\n",
        "bow_features.to_csv('bow_features.csv', index=False)\n",
        "\n",
        "df_tfidf['TweetContent'] = df_tfidf['TweetContent'].fillna('')\n",
        "\n",
        "# TF-IDF on the 2nd part\n",
        "tfidf_vectorizer = TfidfVectorizer()\n",
        "X_tfidf = tfidf_vectorizer.fit_transform(df_tfidf['TweetContent'])\n",
        "tfidf_features = pd.DataFrame(X_tfidf.toarray())\n",
        "\n",
        "# Saving TF-IDF features to a new CSV file\n",
        "tfidf_features.to_csv('tfidf_features.csv', index=False)\n",
        "\n",
        "y_bow = df_bow['Sentiment']\n",
        "y_tfidf = df_tfidf['Sentiment']\n",
        "\n",
        "# Training a simple classifier\n",
        "clf = MultinomialNB()\n",
        "\n",
        "# Train and predict for BoW features\n",
        "clf.fit(bow_features, y_bow)\n",
        "y_pred_bow = clf.predict(bow_features)\n",
        "accuracy_bow = accuracy_score(y_bow, y_pred_bow)\n",
        "print(\"Accuracy for Bag of Words:\", accuracy_bow)\n",
        "\n",
        "# Train and predict for TF-IDF features\n",
        "clf.fit(tfidf_features, y_tfidf)\n",
        "y_pred_tfidf = clf.predict(tfidf_features)\n",
        "accuracy_tfidf = accuracy_score(y_tfidf, y_pred_tfidf)\n",
        "print(\"Accuracy for TF-IDF:\", accuracy_tfidf)\n"
      ],
      "metadata": {
        "colab": {
          "base_uri": "https://localhost:8080/"
        },
        "id": "0nue_BPIJYQj",
        "outputId": "f0fef1d2-44f7-4656-d388-6b769a5bfec9"
      },
      "execution_count": 25,
      "outputs": [
        {
          "output_type": "stream",
          "name": "stdout",
          "text": [
            "Accuracy for Bag of Words: 0.966\n",
            "Accuracy for TF-IDF: 0.928\n"
          ]
        }
      ]
    },
    {
      "cell_type": "code",
      "source": [
        "import pandas as pd\n",
        "from sklearn.model_selection import train_test_split\n",
        "from sklearn.feature_extraction.text import TfidfVectorizer\n",
        "from sklearn.linear_model import LogisticRegression\n",
        "from sklearn.metrics import accuracy_score, precision_score, recall_score, f1_score\n",
        "\n",
        "# Load the preprocessed data\n",
        "df = pd.read_csv('preprocessed_data_twitter.csv')\n",
        "\n",
        "# Extracting features and target variable\n",
        "X = df['TweetContent']\n",
        "y = df['Sentiment']\n",
        "tweet_ids = df['TweetId']\n",
        "\n",
        "# Splitting the dataset into training and testing datasets\n",
        "X_train, X_test, y_train, y_test, tweet_ids_train, tweet_ids_test = train_test_split(\n",
        "    X, y, tweet_ids, test_size=0.2, random_state=42)\n",
        "\n",
        "# Handling missing values in the text data\n",
        "X_train = X_train.fillna('')\n",
        "X_test = X_test.fillna('')\n",
        "\n",
        "# TF-IDF Vectorization\n",
        "tfidf_vectorizer = TfidfVectorizer()\n",
        "X_train_tfidf = tfidf_vectorizer.fit_transform(X_train)\n",
        "X_test_tfidf = tfidf_vectorizer.transform(X_test)\n",
        "\n",
        "# Building Logistic Regression Model\n",
        "logreg_model = LogisticRegression(random_state=42)\n",
        "logreg_model.fit(X_train_tfidf, y_train)\n",
        "\n",
        "# Making predictions\n",
        "y_pred = logreg_model.predict(X_test_tfidf)\n",
        "\n",
        "# Creating a new DataFrame with results\n",
        "results_df = pd.DataFrame({\n",
        "    'TweetID': tweet_ids_test,\n",
        "    'OriginalSentiment': y_test,\n",
        "    'PredictedSentiment': y_pred,\n",
        "    'TweetContent': X_test\n",
        "})\n",
        "\n",
        "# Saving the results to a new CSV file\n",
        "results_df.to_csv('sentiment_predictions_twitter_data.csv', index=False)\n",
        "\n",
        "# Evaluating the Performance by calculating accuracy, precision, recall, and f1\n",
        "accuracy = accuracy_score(y_test, y_pred)\n",
        "precision = precision_score(y_test, y_pred, average='weighted')\n",
        "recall = recall_score(y_test, y_pred, average='weighted')\n",
        "f1 = f1_score(y_test, y_pred, average='weighted')\n",
        "\n",
        "print(f\"Accuracy: {accuracy:.4f}\")\n",
        "print(f\"Precision: {precision:.4f}\")\n",
        "print(f\"Recall: {recall:.4f}\")\n",
        "print(f\"F1 Score: {f1:.4f}\")\n"
      ],
      "metadata": {
        "colab": {
          "base_uri": "https://localhost:8080/"
        },
        "id": "TIFp6XrngfLX",
        "outputId": "740970c3-3746-4447-90d9-8d0dde04cfd8"
      },
      "execution_count": 31,
      "outputs": [
        {
          "output_type": "stream",
          "name": "stdout",
          "text": [
            "Accuracy: 0.5150\n",
            "Precision: 0.5126\n",
            "Recall: 0.5150\n",
            "F1 Score: 0.4963\n"
          ]
        }
      ]
    },
    {
      "cell_type": "code",
      "source": [
        "import pandas as pd\n",
        "from sklearn.model_selection import train_test_split\n",
        "from sklearn.feature_extraction.text import CountVectorizer, TfidfVectorizer\n",
        "from sklearn.naive_bayes import MultinomialNB\n",
        "from sklearn.metrics import accuracy_score, precision_score, recall_score, f1_score, confusion_matrix\n",
        "import seaborn as sns\n",
        "import matplotlib.pyplot as plt\n",
        "\n",
        "df = pd.read_csv('preprocessed_data_twitter.csv')\n",
        "\n",
        "# Splitting into two separate datasets\n",
        "df_bow, df_tfidf = train_test_split(df, test_size=0.5, random_state=42)\n",
        "\n",
        "count_vectorizer = CountVectorizer()\n",
        "X_bow = count_vectorizer.fit_transform(df_bow['TweetContent'])\n",
        "bow_features = pd.DataFrame(X_bow.toarray())\n",
        "\n",
        "df_tfidf['TweetContent'] = df_tfidf['TweetContent'].fillna('')\n",
        "\n",
        "tfidf_vectorizer = TfidfVectorizer()\n",
        "X_tfidf = tfidf_vectorizer.fit_transform(df_tfidf['TweetContent'])\n",
        "tfidf_features = pd.DataFrame(X_tfidf.toarray())\n",
        "\n",
        "y_bow = df_bow['Sentiment']\n",
        "y_tfidf = df_tfidf['Sentiment']\n",
        "\n",
        "clf = MultinomialNB()\n",
        "\n",
        "clf.fit(bow_features, y_bow)\n",
        "y_pred_bow = clf.predict(bow_features)\n",
        "\n",
        "print(\"Metrics for Bag of Words:\")\n",
        "print(\"Accuracy:\", accuracy_score(y_bow, y_pred_bow))\n",
        "print(\"Precision:\", precision_score(y_bow, y_pred_bow, average='weighted'))\n",
        "print(\"Recall:\", recall_score(y_bow, y_pred_bow, average='weighted'))\n",
        "print(\"F1 Score:\", f1_score(y_bow, y_pred_bow, average='weighted'))\n",
        "\n",
        "# Confusion Matrix for BoW\n",
        "conf_matrix_bow = confusion_matrix(y_bow, y_pred_bow)\n",
        "sns.heatmap(conf_matrix_bow, annot=True, fmt='d', cmap='Blues')\n",
        "plt.title('Confusion Matrix for Bag of Words')\n",
        "plt.show()\n",
        "\n",
        "clf.fit(tfidf_features, y_tfidf)\n",
        "y_pred_tfidf = clf.predict(tfidf_features)\n",
        "\n",
        "# Evaluating TF-IDF performance\n",
        "print(\"\\nMetrics for TF-IDF:\")\n",
        "print(\"Accuracy:\", accuracy_score(y_tfidf, y_pred_tfidf))\n",
        "print(\"Precision:\", precision_score(y_tfidf, y_pred_tfidf, average='weighted'))\n",
        "print(\"Recall:\", recall_score(y_tfidf, y_pred_tfidf, average='weighted'))\n",
        "print(\"F1 Score:\", f1_score(y_tfidf, y_pred_tfidf, average='weighted'))\n",
        "\n",
        "# Confusion Matrix for TF-IDF\n",
        "conf_matrix_tfidf = confusion_matrix(y_tfidf, y_pred_tfidf)\n",
        "sns.heatmap(conf_matrix_tfidf, annot=True, fmt='d', cmap='Blues')\n",
        "plt.title('Confusion Matrix for TF-IDF')\n",
        "plt.show()\n"
      ],
      "metadata": {
        "colab": {
          "base_uri": "https://localhost:8080/",
          "height": 1000
        },
        "id": "R4T1S_feg_h_",
        "outputId": "c1fe97ba-8d9f-4974-8cbd-dafce8cace75"
      },
      "execution_count": 27,
      "outputs": [
        {
          "output_type": "stream",
          "name": "stdout",
          "text": [
            "Metrics for Bag of Words:\n",
            "Accuracy: 0.966\n",
            "Precision: 0.9663584542271351\n",
            "Recall: 0.966\n",
            "F1 Score: 0.9659186343077472\n"
          ]
        },
        {
          "output_type": "display_data",
          "data": {
            "text/plain": [
              "<Figure size 640x480 with 2 Axes>"
            ],
            "image/png": "[encoded data removed]"
          },
          "metadata": {}
        },
        {
          "output_type": "stream",
          "name": "stdout",
          "text": [
            "\n",
            "Metrics for TF-IDF:\n",
            "Accuracy: 0.928\n",
            "Precision: 0.9337053478775081\n",
            "Recall: 0.928\n",
            "F1 Score: 0.9235939949814419\n"
          ]
        },
        {
          "output_type": "display_data",
          "data": {
            "text/plain": [
              "<Figure size 640x480 with 2 Axes>"
            ],
            "image/png": "[encoded data removed]"
          },
          "metadata": {}
        }
      ]
    }
  ]
}